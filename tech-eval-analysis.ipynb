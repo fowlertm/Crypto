{
 "cells": [
  {
   "cell_type": "code",
   "execution_count": 1,
   "metadata": {},
   "outputs": [],
   "source": [
    "import pandas as pd \n",
    "import numpy as np\n",
    "import matplotlib.pyplot as plt"
   ]
  },
  {
   "cell_type": "code",
   "execution_count": 2,
   "metadata": {},
   "outputs": [],
   "source": [
    "bd = pd.read_csv('Tech_Eval/blockchain_data.csv')\n",
    "md = pd.read_csv('Tech_Eval/market_data.csv')\n",
    "\n",
    "## Setting up a bitcoin value we care about. \n",
    "\n",
    "inter = bd[['asset_id', 'block_reward_sum']]\n",
    "bd_btc = inter[inter['asset_id'] == 'Bitcoin_BTC_BTC']\n",
    "bd_btc = bd_btc['block_reward_sum']"
   ]
  },
  {
   "cell_type": "markdown",
   "metadata": {},
   "source": [
    "## Basic Analysis"
   ]
  },
  {
   "cell_type": "markdown",
   "metadata": {},
   "source": [
    "What we're interested in here is the absolute most basic kinds of metrics we might want to see: moving averages, percentage change, that kind of thing. "
   ]
  },
  {
   "cell_type": "markdown",
   "metadata": {},
   "source": [
    "### Rolling Mean "
   ]
  },
  {
   "cell_type": "code",
   "execution_count": null,
   "metadata": {},
   "outputs": [],
   "source": [
    "btc_rolling = bd_btc.rolling(10).mean().reset_index().drop('index', axis=1)\n",
    "print(btc_rolling[10:30])"
   ]
  },
  {
   "cell_type": "code",
   "execution_count": null,
   "metadata": {},
   "outputs": [],
   "source": [
    "btc_rolling.plot()\n",
    "plt.show()"
   ]
  },
  {
   "cell_type": "markdown",
   "metadata": {},
   "source": [
    "#### Why do I care about rolling means? "
   ]
  },
  {
   "cell_type": "markdown",
   "metadata": {},
   "source": [
    "#### Future developments in rolling mean."
   ]
  },
  {
   "cell_type": "markdown",
   "metadata": {},
   "source": [
    "### Percent Change "
   ]
  },
  {
   "cell_type": "code",
   "execution_count": null,
   "metadata": {},
   "outputs": [],
   "source": [
    "bd_pct = bd_btc[:20].pct_change(19)\n",
    "bd_pct[-1:]"
   ]
  },
  {
   "cell_type": "markdown",
   "metadata": {},
   "source": [
    "#### Why do I care about Percent Change? "
   ]
  },
  {
   "cell_type": "markdown",
   "metadata": {},
   "source": [
    "#### Future developments in Percent Change. "
   ]
  },
  {
   "cell_type": "markdown",
   "metadata": {},
   "source": [
    "## Fundamental Analysis "
   ]
  },
  {
   "cell_type": "markdown",
   "metadata": {},
   "source": [
    "#### NVT (Network Value to Transaction Ratio)\n",
    "[Source](http://charts.woobull.com/bitcoin-nvt-ratio/)"
   ]
  },
  {
   "cell_type": "code",
   "execution_count": null,
   "metadata": {},
   "outputs": [],
   "source": [
    "# NVT = market cap / total daily transactions.\n",
    "# Network value = market capitalization\n",
    "# market cap = total number of assets * price per asset.\n",
    "# total number of assets = bitcoin_data['supply_total'] \n",
    "# price per asset = market_data['price_close']. Choosing 'price_close' is arbitrary. \n",
    "\n",
    "# This is essentially the crypto analogue to P/E ratios. \n",
    "\n",
    "num_assets = bd.loc[0, ['supply_total']][0] # The total number of btc assets on 2-19-2019\n",
    "price_per_asset = md.loc[0, ['price_close']][0] # Closing price of btc asset on 2-19-2019\n",
    "trx_vol = bd.loc[0, ['txn_count']][0]\n",
    "\n",
    "market_cap = (num_assets * price_per_asset)\n",
    "NVT = (num_assets * price_per_asset)/trx_vol\n",
    "print(NVT)"
   ]
  },
  {
   "cell_type": "markdown",
   "metadata": {},
   "source": [
    "#### Why do I care about NVT?"
   ]
  },
  {
   "cell_type": "markdown",
   "metadata": {},
   "source": [
    "#### Future developments in NVT."
   ]
  },
  {
   "cell_type": "markdown",
   "metadata": {},
   "source": [
    "### MVRV (Market Cap to Realized Capital Ratio)\n",
    "[Source](http://charts.woobull.com/bitcoin-mvrv-ratio/)"
   ]
  },
  {
   "cell_type": "code",
   "execution_count": null,
   "metadata": {},
   "outputs": [],
   "source": [
    "# MVRV = market cap / realized value\n",
    "# realized value = total volume of assets * price at last movement on the blockchain. \n",
    "# Market cap is defined above.\n",
    "# I think total volume can be taken as before from bd['supply_total'], though maybe I'm misinterpreting that. \n",
    "# None of the columns look like they contain 'price at last movement on the blockchain', so there's no way to do that.\n",
    "\n",
    "# Tends to be used in discovering market peaks and discerning when a coin is underpriced.\n",
    "\n",
    "# MVRV = (market_cap)/(num_assets * price at last mvmt on blockchain, a value which I can't currently calculate)"
   ]
  },
  {
   "cell_type": "markdown",
   "metadata": {},
   "source": [
    "#### Why do I care about MVRV?"
   ]
  },
  {
   "cell_type": "markdown",
   "metadata": {},
   "source": [
    "#### Future developments in MVRV. "
   ]
  },
  {
   "cell_type": "markdown",
   "metadata": {},
   "source": [
    "## Technical Analysis "
   ]
  },
  {
   "cell_type": "code",
   "execution_count": null,
   "metadata": {},
   "outputs": [],
   "source": []
  }
 ],
 "metadata": {
  "kernelspec": {
   "display_name": "Python 3",
   "language": "python",
   "name": "python3"
  },
  "language_info": {
   "codemirror_mode": {
    "name": "ipython",
    "version": 3
   },
   "file_extension": ".py",
   "mimetype": "text/x-python",
   "name": "python",
   "nbconvert_exporter": "python",
   "pygments_lexer": "ipython3",
   "version": "3.6.8"
  }
 },
 "nbformat": 4,
 "nbformat_minor": 2
}
