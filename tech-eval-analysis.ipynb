{
 "cells": [
  {
   "cell_type": "code",
   "execution_count": 1,
   "metadata": {},
   "outputs": [],
   "source": [
    "import pandas as pd \n",
    "import numpy as np"
   ]
  },
  {
   "cell_type": "code",
   "execution_count": 2,
   "metadata": {},
   "outputs": [],
   "source": [
    "bd = pd.read_csv('Tech_Eval/blockchain_data.csv')\n",
    "md = pd.read_csv('Tech_Eval/market_data.csv')\n",
    "\n",
    "## Setting up a bitcoin value we care about. \n",
    "\n",
    "inter = bd[['asset_id', 'block_reward_sum']]\n",
    "bd_btc = inter[inter['asset_id'] == 'Bitcoin_BTC_BTC']\n",
    "bd_btc = bd_btc['block_reward_sum']"
   ]
  },
  {
   "cell_type": "markdown",
   "metadata": {},
   "source": [
    "### Basic Analysis"
   ]
  },
  {
   "cell_type": "markdown",
   "metadata": {},
   "source": [
    "What we're interested in here is the absolute most basic kinds of metrics we might want to see: moving averages, percentage change, that kind of thing. "
   ]
  },
  {
   "cell_type": "code",
   "execution_count": 3,
   "metadata": {},
   "outputs": [
    {
     "name": "stdout",
     "output_type": "stream",
     "text": [
      "1975    2076.25\n",
      "1980    2097.50\n",
      "1985    2116.25\n",
      "1990    2128.75\n",
      "1995    2133.75\n",
      "2000    2123.75\n",
      "2005    2097.50\n",
      "2010    2062.50\n",
      "2015    2076.25\n",
      "2020    2083.75\n",
      "2025    2068.75\n",
      "2030    2067.50\n",
      "2035    2058.75\n",
      "2040    2052.50\n",
      "2045    2063.75\n",
      "2050    2055.00\n",
      "2055    2071.25\n",
      "2060    2081.25\n",
      "2065    2072.50\n",
      "2070    2026.25\n",
      "Name: block_reward_sum, dtype: float64\n"
     ]
    }
   ],
   "source": [
    "btc_rolling = bd_btc.rolling(10).mean()\n",
    "print(btc_rolling[-20:])"
   ]
  },
  {
   "cell_type": "markdown",
   "metadata": {},
   "source": [
    "### Fundamental Analysis "
   ]
  },
  {
   "cell_type": "markdown",
   "metadata": {},
   "source": [
    "#### NVT (Network Value to Transaction Ratio)\n",
    "[Source](http://charts.woobull.com/bitcoin-nvt-ratio/)"
   ]
  },
  {
   "cell_type": "code",
   "execution_count": 4,
   "metadata": {},
   "outputs": [],
   "source": [
    "# Network value = market capitalization\n",
    "# market cap = total number of assets * price per asset.\n",
    "# NVT = market cap / total daily transactions. \n",
    "\n",
    "# This is essentially the crypto analogue to P/E ratios. "
   ]
  },
  {
   "cell_type": "markdown",
   "metadata": {},
   "source": [
    "#### MVRV (Market Cap to Realized Capital Ratio)\n",
    "[Source](http://charts.woobull.com/bitcoin-mvrv-ratio/)"
   ]
  },
  {
   "cell_type": "code",
   "execution_count": 5,
   "metadata": {},
   "outputs": [],
   "source": [
    "# See above for market cap \n",
    "# realized value = total volume of assets * price at last movement on the blockchain. \n",
    "# MVRV = market cap / realized value3\n",
    "\n",
    "# Tends to be used in discovering market peaks and discerning when a coin is underpriced."
   ]
  },
  {
   "cell_type": "markdown",
   "metadata": {},
   "source": [
    "#### Bitcoin Network Momentum\n",
    "[Source](https://blog.goodaudience.com/bitcoin-network-momentum-a42346b2f0ce)"
   ]
  },
  {
   "cell_type": "code",
   "execution_count": null,
   "metadata": {},
   "outputs": [],
   "source": []
  }
 ],
 "metadata": {
  "kernelspec": {
   "display_name": "Python 3",
   "language": "python",
   "name": "python3"
  },
  "language_info": {
   "codemirror_mode": {
    "name": "ipython",
    "version": 3
   },
   "file_extension": ".py",
   "mimetype": "text/x-python",
   "name": "python",
   "nbconvert_exporter": "python",
   "pygments_lexer": "ipython3",
   "version": "3.6.8"
  }
 },
 "nbformat": 4,
 "nbformat_minor": 2
}
