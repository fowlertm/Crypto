{
 "cells": [
  {
   "cell_type": "code",
   "execution_count": 1,
   "metadata": {},
   "outputs": [],
   "source": [
    "import pandas as pd \n",
    "import numpy as np\n",
    "import matplotlib.pyplot as plt"
   ]
  },
  {
   "cell_type": "code",
   "execution_count": 2,
   "metadata": {},
   "outputs": [],
   "source": [
    "bd = pd.read_csv('Tech_Eval/blockchain_data.csv')\n",
    "md = pd.read_csv('Tech_Eval/market_data.csv')\n",
    "\n",
    "## Setting up a bitcoin value we care about. \n",
    "\n",
    "inter = bd[['asset_id', 'block_reward_sum']]\n",
    "bd_btc = inter[inter['asset_id'] == 'Bitcoin_BTC_BTC']\n",
    "bd_btc = bd_btc['block_reward_sum']"
   ]
  },
  {
   "cell_type": "markdown",
   "metadata": {},
   "source": [
    "## Basic Analysis"
   ]
  },
  {
   "cell_type": "markdown",
   "metadata": {},
   "source": [
    "What we're interested in here is the absolute most basic kinds of metrics we might want to see: moving averages, percentage change, that kind of thing. "
   ]
  },
  {
   "cell_type": "markdown",
   "metadata": {},
   "source": [
    "### Rolling Mean "
   ]
  },
  {
   "cell_type": "code",
   "execution_count": 3,
   "metadata": {},
   "outputs": [
    {
     "name": "stdout",
     "output_type": "stream",
     "text": [
      "    block_reward_sum\n",
      "10           1810.00\n",
      "11           1820.00\n",
      "12           1838.75\n",
      "13           1856.25\n",
      "14           1881.25\n",
      "15           1888.75\n",
      "16           1870.00\n",
      "17           1890.00\n",
      "18           1906.25\n",
      "19           1925.00\n",
      "20           1907.50\n",
      "21           1886.25\n",
      "22           1850.00\n",
      "23           1816.25\n",
      "24           1820.00\n",
      "25           1808.75\n",
      "26           1838.75\n",
      "27           1841.25\n",
      "28           1806.25\n",
      "29           1800.00\n"
     ]
    }
   ],
   "source": [
    "btc_rolling = bd_btc.rolling(10).mean().reset_index().drop('index', axis=1)\n",
    "print(btc_rolling[10:30])"
   ]
  },
  {
   "cell_type": "code",
   "execution_count": 4,
   "metadata": {},
   "outputs": [
    {
     "data": {
      "image/png": "[encoded data removed]",
      "text/plain": [
       "<Figure size 432x288 with 1 Axes>"
      ]
     },
     "metadata": {},
     "output_type": "display_data"
    }
   ],
   "source": [
    "btc_rolling.plot()\n",
    "plt.show()"
   ]
  },
  {
   "cell_type": "markdown",
   "metadata": {},
   "source": [
    "#### Why do I care about rolling means? \n",
    "\n",
    "The rolling mean is calculated by looking at a defined window of past states and calculating the average of those states. This gives you a much bette general sense of the asset's movements. "
   ]
  },
  {
   "cell_type": "markdown",
   "metadata": {},
   "source": [
    "#### Future developments in rolling mean.\n",
    "\n",
    "1) Define a function which can take an argument `n` defining the window of the rolling mean. Make this user-facing. "
   ]
  },
  {
   "cell_type": "markdown",
   "metadata": {},
   "source": [
    "### Percent Change "
   ]
  },
  {
   "cell_type": "code",
   "execution_count": 8,
   "metadata": {},
   "outputs": [
    {
     "data": {
      "text/plain": [
       "95   -0.018987\n",
       "Name: block_reward_sum, dtype: float64"
      ]
     },
     "execution_count": 8,
     "metadata": {},
     "output_type": "execute_result"
    }
   ],
   "source": [
    "bd_pct = bd_btc[:20].pct_change(1)\n",
    "bd_pct[-1:]"
   ]
  },
  {
   "cell_type": "markdown",
   "metadata": {},
   "source": [
    "#### Why do I care about Percent Change? \n",
    "\n",
    "Percent change can give you the percentage difference between a current value and the value at any previous time. Generally you look at percent change from the current day to the previous one, but there's no reason you can't look back even further. "
   ]
  },
  {
   "cell_type": "markdown",
   "metadata": {},
   "source": [
    "#### Future developments in Percent Change. \n",
    "\n",
    "1) As with rolling mean, make a user-facing function that takes an argument to determine how many units backwards to look. This is trivial.  \n",
    "2) Make a function which takes an asset and an argument `n` which determines how far back to look and calculate the percent change from 1-back to n-back. Are there patterns? This could be the input into a Gaussian optimization function which determines the optimal predictive window for asset movements. "
   ]
  },
  {
   "cell_type": "markdown",
   "metadata": {},
   "source": [
    "## Fundamental Analysis "
   ]
  },
  {
   "cell_type": "markdown",
   "metadata": {},
   "source": [
    "#### NVT (Network Value to Transaction Ratio)\n",
    "[Source](http://charts.woobull.com/bitcoin-nvt-ratio/)"
   ]
  },
  {
   "cell_type": "code",
   "execution_count": 6,
   "metadata": {},
   "outputs": [
    {
     "name": "stdout",
     "output_type": "stream",
     "text": [
      "198929.5683690259\n"
     ]
    }
   ],
   "source": [
    "# NVT = market cap / total daily transactions.\n",
    "# Network value = market capitalization\n",
    "# market cap = total number of assets * price per asset.\n",
    "# total number of assets = bitcoin_data['supply_total'] \n",
    "# price per asset = market_data['price_close']. Choosing 'price_close' is arbitrary. \n",
    "\n",
    "# This is essentially the crypto analogue to P/E ratios. \n",
    "\n",
    "num_assets = bd.loc[0, ['supply_total']][0] # The total number of btc assets on 2-19-2019\n",
    "price_per_asset = md.loc[0, ['price_close']][0] # Closing price of btc asset on 2-19-2019\n",
    "trx_vol = bd.loc[0, ['txn_count']][0]\n",
    "\n",
    "market_cap = (num_assets * price_per_asset)\n",
    "NVT = (num_assets * price_per_asset)/trx_vol\n",
    "print(NVT)"
   ]
  },
  {
   "cell_type": "markdown",
   "metadata": {},
   "source": [
    "#### Why do I care about NVT?\n",
    "\n",
    "NVT is not unlike the crypto equivalent of a P/E (price-per-share/earnings-per-share) ratio. Though neither the P/E ratio nor any other metric deployed in fundamentals analysis is a crystal ball, it is one of the basic tools which investors rely upon to get a sense of the health, momentum, and future of a company. \n",
    "\n",
    "When transposed into the key of crypto-currency markets, the NVT gives us roughly the same information. A company with a high P/E has a high price-per-share relative to their earnings-per-share. This tends to mean that either the company is overvalued or they are in a state of high growth[1](https://woobull.com/introducing-nvt-ratio-bitcoins-pe-ratio-use-it-to-detect-bubbles/). \n",
    "\n",
    "Because BTC isn't a company there is no way to calculate earnings. But, as BTC is generally used as either a store of value or a way to make payments, it has been argued that looking at the volume of transactions across the network is approximately equivalent to earnings.  "
   ]
  },
  {
   "cell_type": "markdown",
   "metadata": {},
   "source": [
    "#### Future developments in NVT."
   ]
  },
  {
   "cell_type": "markdown",
   "metadata": {},
   "source": [
    "### MVRV (Market Cap to Realized Capital Ratio)\n",
    "[Source](http://charts.woobull.com/bitcoin-mvrv-ratio/)"
   ]
  },
  {
   "cell_type": "code",
   "execution_count": 7,
   "metadata": {},
   "outputs": [],
   "source": [
    "# MVRV = market cap / realized value\n",
    "# realized value = total volume of assets * price at last movement on the blockchain. \n",
    "# Market cap is defined above.\n",
    "# I think total volume can be taken as before from bd['supply_total'], though maybe I'm misinterpreting that. \n",
    "# None of the columns look like they contain 'price at last movement on the blockchain', so there's no way to do that.\n",
    "\n",
    "# Tends to be used in discovering market peaks and discerning when a coin is underpriced.\n",
    "\n",
    "# MVRV = (market_cap)/(num_assets * price at last mvmt on blockchain, a value which I can't currently calculate)"
   ]
  },
  {
   "cell_type": "markdown",
   "metadata": {},
   "source": [
    "#### Why do I care about MVRV?"
   ]
  },
  {
   "cell_type": "markdown",
   "metadata": {},
   "source": [
    "#### Future developments in MVRV. "
   ]
  },
  {
   "cell_type": "markdown",
   "metadata": {},
   "source": [
    "## Technical Analysis "
   ]
  }
 ],
 "metadata": {
  "kernelspec": {
   "display_name": "Python 3",
   "language": "python",
   "name": "python3"
  },
  "language_info": {
   "codemirror_mode": {
    "name": "ipython",
    "version": 3
   },
   "file_extension": ".py",
   "mimetype": "text/x-python",
   "name": "python",
   "nbconvert_exporter": "python",
   "pygments_lexer": "ipython3",
   "version": "3.6.8"
  }
 },
 "nbformat": 4,
 "nbformat_minor": 2
}
