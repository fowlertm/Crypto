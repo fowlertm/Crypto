{
 "cells": [
  {
   "cell_type": "code",
   "execution_count": 1,
   "metadata": {},
   "outputs": [],
   "source": [
    "import pandas as pd \n",
    "import numpy as np\n",
    "import matplotlib.pyplot\n",
    "\n",
    "from statsmodels.tsa.ar_model import AR\n",
    "from statsmodels.tsa.arima_model import ARMA\n",
    "from statsmodels.tsa.arima_model import ARIMA\n",
    "from statsmodels.tsa.statespace.sarimax import SARIMAX"
   ]
  },
  {
   "cell_type": "markdown",
   "metadata": {},
   "source": [
    "## Getting the Data Set "
   ]
  },
  {
   "cell_type": "code",
   "execution_count": 2,
   "metadata": {},
   "outputs": [],
   "source": [
    "# Loading the market data set \n",
    "\n",
    "# Probably a less circuitous route to getting this done, my pd skills are rusty...\n",
    "\n",
    "md = pd.read_csv('Tech_Eval/market_data.csv')\n",
    "inter = md[['base_asset_id', 'price_open']]\n",
    "mdbtc = inter[inter['base_asset_id'] == 'Bitcoin_BTC_BTC']\n",
    "mdbtc_arr = mdbtc['price_open'].values"
   ]
  },
  {
   "cell_type": "markdown",
   "metadata": {},
   "source": [
    "## Univariate Predictive Models"
   ]
  },
  {
   "cell_type": "markdown",
   "metadata": {},
   "source": [
    "### Autoregression"
   ]
  },
  {
   "cell_type": "code",
   "execution_count": 3,
   "metadata": {},
   "outputs": [
    {
     "name": "stdout",
     "output_type": "stream",
     "text": [
      "13179.25688155909\n"
     ]
    }
   ],
   "source": [
    "model = AR(mdbtc_arr)\n",
    "model_fit = model.fit()\n",
    "yhat = model_fit.predict(len(mdbtc_arr), len(mdbtc_arr))\n",
    "print(yhat[0])"
   ]
  },
  {
   "cell_type": "markdown",
   "metadata": {},
   "source": [
    "### Moving-averages"
   ]
  },
  {
   "cell_type": "code",
   "execution_count": 4,
   "metadata": {},
   "outputs": [
    {
     "name": "stdout",
     "output_type": "stream",
     "text": [
      "10466.667170191871\n"
     ]
    }
   ],
   "source": [
    "model = ARMA(mdbtc_arr, order=(0, 1))\n",
    "model_fit = model.fit(disp=False)\n",
    "\n",
    "yhat = model_fit.predict(len(mdbtc_arr), len(mdbtc_arr))\n",
    "print(yhat[0])"
   ]
  },
  {
   "cell_type": "markdown",
   "metadata": {},
   "source": [
    "### Autoregressive Moving-averages"
   ]
  },
  {
   "cell_type": "code",
   "execution_count": 5,
   "metadata": {},
   "outputs": [
    {
     "name": "stdout",
     "output_type": "stream",
     "text": [
      "13543.738537098749\n"
     ]
    }
   ],
   "source": [
    "model = ARMA(mdbtc_arr, order=(2, 1))\n",
    "model_fit = model.fit(disp=False)\n",
    "# make prediction\n",
    "yhat = model_fit.predict(len(mdbtc_arr), len(mdbtc_arr))\n",
    "print(yhat[0])"
   ]
  },
  {
   "cell_type": "markdown",
   "metadata": {},
   "source": [
    "### Autoregressive Integrated Moving-averages"
   ]
  },
  {
   "cell_type": "code",
   "execution_count": 6,
   "metadata": {},
   "outputs": [
    {
     "name": "stdout",
     "output_type": "stream",
     "text": [
      "13632.46129707051\n"
     ]
    }
   ],
   "source": [
    "model = ARIMA(mdbtc_arr, order=(1, 1, 1))\n",
    "model_fit = model.fit(disp=False)\n",
    "# make prediction\n",
    "yhat = model_fit.predict(len(mdbtc_arr), len(mdbtc_arr), typ='levels')\n",
    "print(yhat[0])"
   ]
  },
  {
   "cell_type": "markdown",
   "metadata": {},
   "source": [
    "### Seasonal Autoregressive Integrated moving-average "
   ]
  },
  {
   "cell_type": "code",
   "execution_count": 7,
   "metadata": {},
   "outputs": [
    {
     "name": "stdout",
     "output_type": "stream",
     "text": [
      "13909.786725343305\n"
     ]
    }
   ],
   "source": [
    "model = SARIMAX(mdbtc_arr, order=(1, 1, 1), seasonal_order=(1, 1, 1, 1))\n",
    "model_fit = model.fit(disp=False)\n",
    "# make prediction\n",
    "yhat = model_fit.predict(len(mdbtc_arr), len(mdbtc_arr))\n",
    "print(yhat[0])"
   ]
  },
  {
   "cell_type": "markdown",
   "metadata": {},
   "source": [
    "## Supervised Learning Predictive Model"
   ]
  },
  {
   "cell_type": "code",
   "execution_count": 9,
   "metadata": {},
   "outputs": [
    {
     "name": "stdout",
     "output_type": "stream",
     "text": [
      "        var1(t-1)       var1(t)\n",
      "1     3932.714647   3661.759485\n",
      "2     3661.759485   3680.596153\n",
      "3     3680.596153   3628.773472\n",
      "4     3628.773472   3645.881857\n",
      "5     3645.881857   3666.783059\n",
      "6     3666.783059   3680.201283\n",
      "7     3680.201283   3688.762632\n",
      "8     3688.762632   3730.506764\n",
      "9     3730.506764   3721.066534\n",
      "10    3721.066534   3696.619600\n",
      "11    3696.619600   3406.372093\n",
      "12    3406.372093   3408.132504\n",
      "13    3408.132504   3475.103375\n",
      "14    3475.103375   3486.832555\n",
      "15    3486.832555   3484.022922\n",
      "16    3484.022922   3557.682910\n",
      "17    3557.682910   3526.715157\n",
      "18    3526.715157   3490.425066\n",
      "19    3490.425066   3518.870428\n",
      "20    3518.870428   3475.828556\n",
      "21    3475.828556   3479.212412\n",
      "22    3479.212412   3596.644951\n",
      "23    3596.644951   3622.287288\n",
      "24    3622.287288   3603.608649\n",
      "25    3603.608649   3596.941779\n",
      "26    3596.941779   3617.554154\n",
      "27    3617.554154   3627.132906\n",
      "28    3627.132906   3574.527789\n",
      "29    3574.527789   3590.969566\n",
      "30    3590.969566   3740.809269\n",
      "..            ...           ...\n",
      "385   9829.129057  10945.557000\n",
      "386  10945.557000  11552.385771\n",
      "387  11552.385771  11158.261555\n",
      "388  11158.261555  10854.449430\n",
      "389  10854.449430  10917.829496\n",
      "390  10917.829496  11127.412693\n",
      "391  11127.412693  10578.320554\n",
      "392  10578.320554  10550.995472\n",
      "393  10550.995472  11302.242366\n",
      "394  11302.242366  12516.637888\n",
      "395  12516.637888  11284.937755\n",
      "396  11284.937755  10822.203636\n",
      "397  10822.203636  10792.159622\n",
      "398  10792.159622  10921.007703\n",
      "399  10921.007703  13266.170888\n",
      "400  13266.170888  13225.408582\n",
      "401  13225.408582  13930.194964\n",
      "402  13930.194964  13550.563793\n",
      "403  13550.563793  12985.434997\n",
      "404  12985.434997  14580.726595\n",
      "405  14580.726595  14118.909562\n",
      "406  14118.909562  14617.088285\n",
      "407  14617.088285  15828.925999\n",
      "408  15828.925999  16781.302024\n",
      "409  16781.302024  16615.036247\n",
      "410  16615.036247  14817.323222\n",
      "411  14817.323222  14844.571252\n",
      "412  14844.571252  14432.622437\n",
      "413  14432.622437  13068.102719\n",
      "414  13068.102719  13584.684868\n",
      "\n",
      "[414 rows x 2 columns]\n"
     ]
    }
   ],
   "source": [
    "def series_to_supervised(data, n_in=1, n_out=1, dropnan=True):\n",
    "    \"\"\"\n",
    "    Frame a time series as a supervised learning dataset.\n",
    "    Arguments:\n",
    "        data: Sequence of observations as a list or NumPy array.\n",
    "        n_in: Number of lag observations as input (X).\n",
    "        n_out: Number of observations as output (y).\n",
    "        dropnan: Boolean whether or not to drop rows with NaN values.\n",
    "        Returns:\n",
    "        Pandas DataFrame of series framed for supervised learning.\n",
    "    \"\"\"\n",
    "    n_vars = 1 if type(data) is list else data.shape[0]\n",
    "    df = pd.DataFrame(data)\n",
    "    cols, names = list(), list()\n",
    "    # input sequence (t-n, ... t-1)\n",
    "    for i in range(n_in, 0, -1):\n",
    "        cols.append(df.shift(i))\n",
    "        names += [('var%d(t-%d)' % (j+1, i)) for j in range(n_vars)]\n",
    "    # forecast sequence (t, t+1, ... t+n)\n",
    "    for i in range(0, n_out):\n",
    "        cols.append(df.shift(-i))\n",
    "        if i == 0:\n",
    "            names += [('var%d(t)' % (j+1)) for j in range(n_vars)]\n",
    "        else:\n",
    "            names += [('var%d(t+%d)' % (j+1, i)) for j in range(n_vars)]\n",
    "    # put it all together\n",
    "    agg = pd.concat(cols, axis=1)\n",
    "    agg.columns = names\n",
    "    # drop rows with NaN values\n",
    "    if dropnan:\n",
    "        agg.dropna(inplace=True)\n",
    "    return agg\n",
    "\n",
    "yhat = series_to_supervised(list(mdbtc_arr))\n",
    "print(yhat)"
   ]
  },
  {
   "cell_type": "markdown",
   "metadata": {},
   "source": [
    "### References"
   ]
  },
  {
   "cell_type": "markdown",
   "metadata": {},
   "source": [
    "[Univariate predictive models](https://machinelearningmastery.com/time-series-forecasting-methods-in-python-cheat-sheet/)"
   ]
  },
  {
   "cell_type": "markdown",
   "metadata": {},
   "source": [
    "### Future Directions"
   ]
  },
  {
   "cell_type": "markdown",
   "metadata": {},
   "source": [
    "[LSTM predictions](https://lilianweng.github.io/lil-log/2017/07/08/predict-stock-prices-using-RNN-part-1.html)   \n",
    "[Code for LSTM predictions](https://github.com/lilianweng/stock-rnn)  \n",
    "\n",
    "[Doing the same with TF and GCP](https://medium.com/google-cloud/how-to-do-time-series-prediction-using-rnns-and-tensorflow-and-cloud-ml-engine-2ad2eeb189e8)  \n",
    "\n",
    "[Echo State Networks](https://towardsdatascience.com/predicting-stock-prices-with-echo-state-networks-f910809d23d4)  "
   ]
  },
  {
   "cell_type": "code",
   "execution_count": null,
   "metadata": {},
   "outputs": [],
   "source": []
  }
 ],
 "metadata": {
  "kernelspec": {
   "display_name": "Python 3",
   "language": "python",
   "name": "python3"
  },
  "language_info": {
   "codemirror_mode": {
    "name": "ipython",
    "version": 3
   },
   "file_extension": ".py",
   "mimetype": "text/x-python",
   "name": "python",
   "nbconvert_exporter": "python",
   "pygments_lexer": "ipython3",
   "version": "3.6.8"
  }
 },
 "nbformat": 4,
 "nbformat_minor": 2
}
