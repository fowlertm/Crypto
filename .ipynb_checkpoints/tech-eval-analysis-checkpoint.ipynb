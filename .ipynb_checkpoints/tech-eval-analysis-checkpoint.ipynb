{
 "cells": [
  {
   "cell_type": "code",
   "execution_count": 1,
   "metadata": {},
   "outputs": [],
   "source": [
    "import pandas as pd \n",
    "import numpy as np"
   ]
  },
  {
   "cell_type": "code",
   "execution_count": 2,
   "metadata": {},
   "outputs": [],
   "source": [
    "bd = pd.read_csv('Tech_Eval/blockchain_data.csv')\n",
    "md = pd.read_csv('Tech_Eval/market_data.csv')"
   ]
  },
  {
   "cell_type": "markdown",
   "metadata": {},
   "source": [
    "### Fundamental Analysis "
   ]
  },
  {
   "cell_type": "markdown",
   "metadata": {},
   "source": [
    "#### NVT (Network Value to Transaction Ratio)\n",
    "[Source](http://charts.woobull.com/bitcoin-nvt-ratio/)"
   ]
  },
  {
   "cell_type": "code",
   "execution_count": null,
   "metadata": {},
   "outputs": [],
   "source": [
    "# Network value = market capitalization\n",
    "# market cap = total number of assets * price per asset.\n",
    "# NVT = market cap / total daily transactions. \n",
    "\n",
    "# This is essentially the crypto analogue to P/E ratios. "
   ]
  },
  {
   "cell_type": "markdown",
   "metadata": {},
   "source": [
    "#### MVRV (Market Cap to Realized Capital Ratio)\n",
    "[Source](http://charts.woobull.com/bitcoin-mvrv-ratio/)"
   ]
  },
  {
   "cell_type": "code",
   "execution_count": 3,
   "metadata": {},
   "outputs": [],
   "source": [
    "# See above for market cap \n",
    "# realized value = total volume of assets * price at last movement on the blockchain. \n",
    "# MVRV = market cap / realized value3\n",
    "\n",
    "# Tends to be used in discovering market peaks and discerning when a coin is underpriced."
   ]
  },
  {
   "cell_type": "markdown",
   "metadata": {},
   "source": [
    "#### Bitcoin Network Momentum\n",
    "[Source](https://blog.goodaudience.com/bitcoin-network-momentum-a42346b2f0ce)"
   ]
  },
  {
   "cell_type": "code",
   "execution_count": null,
   "metadata": {},
   "outputs": [],
   "source": []
  }
 ],
 "metadata": {
  "kernelspec": {
   "display_name": "Python 3",
   "language": "python",
   "name": "python3"
  },
  "language_info": {
   "codemirror_mode": {
    "name": "ipython",
    "version": 3
   },
   "file_extension": ".py",
   "mimetype": "text/x-python",
   "name": "python",
   "nbconvert_exporter": "python",
   "pygments_lexer": "ipython3",
   "version": "3.6.8"
  }
 },
 "nbformat": 4,
 "nbformat_minor": 2
}
